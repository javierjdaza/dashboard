{
 "cells": [
  {
   "cell_type": "code",
   "execution_count": null,
   "metadata": {},
   "outputs": [],
   "source": [
    "import pandas as pd\n",
    "import plotly.graph_objects as go"
   ]
  },
  {
   "cell_type": "code",
   "execution_count": null,
   "metadata": {},
   "outputs": [],
   "source": [
    "df = pd.read_excel('./data/SUMAC-2023.05.07-Wacarí 94-Documentación requerida CASA 2.1.xlsx')"
   ]
  },
  {
   "cell_type": "code",
   "execution_count": 5,
   "metadata": {},
   "outputs": [],
   "source": [
    "def etl(df:pd.DataFrame):\n",
    "    df_list = df.to_dict(orient='records')\n",
    "\n",
    "    fecha = [ i for i in df['Unnamed: 14'].values if str(i).startswith('Fecha')][0]\n",
    "    nombre_proyecto = [ i for i in df['Unnamed: 14'].values if str(i).startswith('Nombre')][0].split(':')[1].strip()\n",
    "    categorias = [i for i in df['Unnamed: 4'].values if str(i) != 'nan' and not str(i).startswith('Opci') and str(i) != 'Obligatorio'and not str(i).startswith('Mé') and str(i) != 'Responsabilidad Social (RS)']\n",
    "    estados = [i for i in df['Unnamed: 14'].values if str(i) in ['Estado','No Aplica','Cerrado','Pendiente','En proceso']]\n",
    "\n",
    "    dict_ = {}\n",
    "    contador = 0\n",
    "    for i in estados:\n",
    "        if i == 'Estado':\n",
    "            contador +=1\n",
    "            pass\n",
    "        else:\n",
    "            try:\n",
    "                dict_[f'{contador}'].append(i)\n",
    "            except:\n",
    "                dict_.update({\n",
    "                    f'{contador}':[i]\n",
    "                })\n",
    "\n",
    "    dict_catego_estado = {}\n",
    "    for i,v in enumerate(categorias):\n",
    "        dict_catego_estado.update({v:dict_[list(dict_.keys())[i]]})\n",
    "\n",
    "\n",
    "    list_final = []\n",
    "    for k,v in dict_catego_estado.items():\n",
    "        cerrado = 0\n",
    "        no_aplica = 0\n",
    "        en_proceso = 0\n",
    "        pendiente = 0\n",
    "        for i in v:\n",
    "            if i == 'Cerrado':\n",
    "                cerrado +=1\n",
    "            if i == 'No Aplica':\n",
    "                no_aplica +=1\n",
    "            if i == 'En proceso':\n",
    "                en_proceso +=1\n",
    "            if i == 'Pendiente':\n",
    "                pendiente +=1\n",
    "        dict_temp = {\n",
    "            # 'nombre_proyecto' : nombre_proyecto,\n",
    "            # 'fecha':fecha,\n",
    "            'categoria':k,\n",
    "            'cerrado' : cerrado,\n",
    "            # 'no_aplica' : no_aplica,\n",
    "            'en_proceso' : en_proceso,\n",
    "            'pendiente' : pendiente,\n",
    "            }\n",
    "        list_final.append(dict_temp)\n",
    "\n",
    "    df_2 = pd.DataFrame(list_final)\n",
    "    rows_keep = [\n",
    "    'Sostenibilidad en el Entorno (SE)',\n",
    "    'Sostenibilidad en Obra (SO)',\n",
    "    'Eficiencia de Recursos (ER)',\n",
    "    'Eficiencia en Agua (EA)',\n",
    "    'Eficiencia en Energía (EE)',\n",
    "    'Eficiencia en Materiales (EM)',\n",
    "    'Bienestar (B)']\n",
    "    df_2 = df_2[df_2['categoria'].isin(rows_keep)]\n",
    "    df_2 = df_2[~((df_2['cerrado'] == 0) & (df_2['en_proceso'] == 0) & (df_2['pendiente'] == 0))]\n",
    "\n",
    "    return df_2\n",
    "\n",
    "def plot_categories(df_2:pd.DataFrame):\n",
    "    \n",
    "\n",
    "    colors_cerrado = ['#AACB73','#AACB73','#AACB73','#AACB73','#AACB73','#AACB73','#AACB73',]\n",
    "    colors_process = ['#F9D949','#F9D949','#F9D949','#F9D949','#F9D949','#F9D949','#F9D949',]\n",
    "    colors_pending = ['#EB455F','#EB455F','#EB455F','#EB455F','#EB455F','#EB455F','#EB455F',]\n",
    "    categorias_ = df_2['categoria']\n",
    "    fig = go.Figure(data = [\n",
    "        go.Bar(name = 'Cerrado', x=categorias_, y=df_2['cerrado'],text= df_2['cerrado'], textposition='auto', marker_color = colors_cerrado),\n",
    "        go.Bar(name = 'En proceso', x=categorias_, y=df_2['en_proceso'],text= df_2['en_proceso'], textposition='auto', marker_color = colors_process),\n",
    "        go.Bar(name = 'Pendiente', x=categorias_, y=df_2['pendiente'],text= df_2['pendiente'], textposition='auto',marker_color = colors_pending),\n",
    "\n",
    "            ])\n",
    "    fig.update_layout(barmode='group',title = 'Conteo Status por Categorias',\n",
    "        xaxis_title=\"Categoria\",\n",
    "        yaxis_title=\"Count\",)\n",
    "\n",
    "    return fig\n",
    "\n",
    "def plot_progress(df_2:pd.DataFrame):\n",
    "    \n",
    "    df_2['progress'] = df_2['cerrado']  / (df_2['cerrado'] + df_2['en_proceso'] + df_2['pendiente'])\n",
    "    df_2['progress'] = df_2['progress'].apply(lambda x: round(x,2))\n",
    "    df_2.sort_values(by = ['progress'], inplace = True, ascending = True)\n",
    "    progress_ = df_2['progress']\n",
    "    categoria_ = df_2['categoria']\n",
    "    fig = go.Figure(data = [\n",
    "        go.Bar(name = 'Cerrado', y=categoria_, orientation='h',x=df_2['progress'],text= df_2['progress'],marker=dict(\n",
    "            color='rgb(123, 203, 164,0.6)',\n",
    "            line=dict(color='rgb(123, 203, 164, 1.0)', width=3)))],layout_xaxis_range = [0,1])\n",
    "\n",
    "    fig.update_layout(barmode='group',title = 'Progress Status por Categorias',\n",
    "        xaxis_title=\"% Progress\")\n",
    "\n",
    "    return fig\n",
    "\n"
   ]
  },
  {
   "cell_type": "code",
   "execution_count": 6,
   "metadata": {},
   "outputs": [],
   "source": [
    "df_processed = etl(df)\n",
    "fig = plot_categories(df_processed)\n",
    "fig_2 = plot_progress(df_processed)"
   ]
  },
  {
   "cell_type": "code",
   "execution_count": null,
   "metadata": {},
   "outputs": [],
   "source": [
    "df_list = df.to_dict(orient='records')"
   ]
  },
  {
   "cell_type": "code",
   "execution_count": null,
   "metadata": {},
   "outputs": [],
   "source": [
    "fecha = [ i for i in df['Unnamed: 14'].values if str(i).startswith('Fecha')][0]\n",
    "nombre_proyecto = [ i for i in df['Unnamed: 14'].values if str(i).startswith('Nombre')][0].split(':')[1].strip()\n",
    "print(fecha,nombre_proyecto)"
   ]
  },
  {
   "cell_type": "code",
   "execution_count": null,
   "metadata": {},
   "outputs": [],
   "source": [
    "categorias = [i for i in df['Unnamed: 4'].values if str(i) != 'nan' and not str(i).startswith('Opci') and str(i) != 'Obligatorio'and not str(i).startswith('Mé') and str(i) != 'Responsabilidad Social (RS)']\n",
    "estados = [i for i in df['Unnamed: 14'].values if str(i) in ['Estado','No Aplica','Cerrado','Pendiente','En proceso']]"
   ]
  },
  {
   "cell_type": "code",
   "execution_count": null,
   "metadata": {},
   "outputs": [],
   "source": [
    "dict_ = {}\n",
    "contador = 0\n",
    "for i in estados:\n",
    "    if i == 'Estado':\n",
    "        contador +=1\n",
    "        pass\n",
    "    else:\n",
    "        try:\n",
    "            dict_[f'{contador}'].append(i)\n",
    "        except:\n",
    "            dict_.update({\n",
    "                f'{contador}':[i]\n",
    "            })"
   ]
  },
  {
   "cell_type": "code",
   "execution_count": null,
   "metadata": {},
   "outputs": [],
   "source": [
    "dict_catego_estado = {}\n",
    "for i,v in enumerate(categorias):\n",
    "    dict_catego_estado.update({v:dict_[list(dict_.keys())[i]]})\n"
   ]
  },
  {
   "cell_type": "code",
   "execution_count": null,
   "metadata": {},
   "outputs": [],
   "source": [
    "list_final = []\n",
    "for k,v in dict_catego_estado.items():\n",
    "    cerrado = 0\n",
    "    no_aplica = 0\n",
    "    en_proceso = 0\n",
    "    pendiente = 0\n",
    "    for i in v:\n",
    "        if i == 'Cerrado':\n",
    "            cerrado +=1\n",
    "        if i == 'No Aplica':\n",
    "            no_aplica +=1\n",
    "        if i == 'En proceso':\n",
    "            en_proceso +=1\n",
    "        if i == 'Pendiente':\n",
    "            pendiente +=1\n",
    "    dict_temp = {\n",
    "        # 'nombre_proyecto' : nombre_proyecto,\n",
    "        # 'fecha':fecha,\n",
    "        'categoria':k,\n",
    "        'cerrado' : cerrado,\n",
    "        # 'no_aplica' : no_aplica,\n",
    "        'en_proceso' : en_proceso,\n",
    "        'pendiente' : pendiente,\n",
    "        }\n",
    "    list_final.append(dict_temp)\n"
   ]
  },
  {
   "cell_type": "code",
   "execution_count": null,
   "metadata": {},
   "outputs": [],
   "source": [
    "df_2 = pd.DataFrame(list_final)\n",
    "rows_keep = [\n",
    " 'Sostenibilidad en el Entorno (SE)',\n",
    " 'Sostenibilidad en Obra (SO)',\n",
    " 'Eficiencia de Recursos (ER)',\n",
    " 'Eficiencia en Agua (EA)',\n",
    " 'Eficiencia en Energía (EE)',\n",
    " 'Eficiencia en Materiales (EM)',\n",
    " 'Bienestar (B)']\n",
    "df_2 = df_2[df_2['categoria'].isin(rows_keep)]\n",
    "df_2 = df_2[~((df_2['cerrado'] == 0) & (df_2['en_proceso'] == 0) & (df_2['pendiente'] == 0))]"
   ]
  },
  {
   "cell_type": "code",
   "execution_count": null,
   "metadata": {},
   "outputs": [],
   "source": [
    "import plotly.graph_objects as go\n",
    "\n",
    "colors_cerrado = ['#AACB73','#AACB73','#AACB73','#AACB73','#AACB73','#AACB73','#AACB73',]\n",
    "colors_process = ['#F9D949','#F9D949','#F9D949','#F9D949','#F9D949','#F9D949','#F9D949',]\n",
    "colors_pending = ['#EB455F','#EB455F','#EB455F','#EB455F','#EB455F','#EB455F','#EB455F',]\n",
    "categorias_ = df_2['categoria']\n",
    "fig = go.Figure(data = [\n",
    "    go.Bar(name = 'Cerrado', x=categorias_, y=df_2['cerrado'],text= df_2['cerrado'], textposition='auto', marker_color = colors_cerrado),\n",
    "    go.Bar(name = 'En proceso', x=categorias_, y=df_2['en_proceso'],text= df_2['en_proceso'], textposition='auto', marker_color = colors_process),\n",
    "    go.Bar(name = 'Pendiente', x=categorias_, y=df_2['pendiente'],text= df_2['pendiente'], textposition='auto',marker_color = colors_pending),\n",
    "\n",
    "        ])\n",
    "fig.update_layout(barmode='group',title = 'Conteo Status por Categorias',\n",
    "    xaxis_title=\"Categoria\",\n",
    "    yaxis_title=\"Count\",)\n",
    "\n",
    "fig.show()"
   ]
  },
  {
   "cell_type": "code",
   "execution_count": null,
   "metadata": {},
   "outputs": [],
   "source": [
    "df_2['progress'] = df_2['cerrado']  / (df_2['cerrado'] + df_2['en_proceso'] + df_2['pendiente'])\n",
    "df_2['progress'] = df_2['progress'].apply(lambda x: round(x,2))\n",
    "df_2.sort_values(by = ['progress'], inplace = True, ascending = True)"
   ]
  },
  {
   "cell_type": "code",
   "execution_count": null,
   "metadata": {},
   "outputs": [],
   "source": [
    "import plotly.graph_objects as go\n",
    "\n",
    "progress_ = df_2['progress']\n",
    "categoria_ = df_2['categoria']\n",
    "fig = go.Figure(data = [\n",
    "    go.Bar(name = 'Cerrado', y=categoria_, orientation='h',x=df_2['progress'],text= df_2['progress'],marker=dict(\n",
    "        color='rgb(123, 203, 164,0.6)',\n",
    "        line=dict(color='rgb(123, 203, 164, 1.0)', width=3)))],layout_xaxis_range = [0,1])\n",
    "\n",
    "fig.update_layout(barmode='group',title = 'Progress Status por Categorias',\n",
    "    xaxis_title=\"% Progress\")\n",
    "\n",
    "fig.show()"
   ]
  },
  {
   "cell_type": "code",
   "execution_count": null,
   "metadata": {},
   "outputs": [],
   "source": []
  }
 ],
 "metadata": {
  "kernelspec": {
   "display_name": "env",
   "language": "python",
   "name": "python3"
  },
  "language_info": {
   "codemirror_mode": {
    "name": "ipython",
    "version": 3
   },
   "file_extension": ".py",
   "mimetype": "text/x-python",
   "name": "python",
   "nbconvert_exporter": "python",
   "pygments_lexer": "ipython3",
   "version": "3.8.9"
  },
  "orig_nbformat": 4
 },
 "nbformat": 4,
 "nbformat_minor": 2
}
